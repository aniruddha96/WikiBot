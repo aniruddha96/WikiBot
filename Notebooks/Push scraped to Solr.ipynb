{
 "cells": [
  {
   "cell_type": "code",
   "execution_count": null,
   "metadata": {},
   "outputs": [],
   "source": [
    "import requests\n",
    "import pandas as pd\n",
    "import re\n",
    "from datetime import datetime\n",
    "import json\n",
    "import pysolr \n",
    "from tqdm import tqdm\n",
    "CORE_NAME = 'reddit'\n",
    "solr_url = f'http://34.125.52.100:8983/solr/'"
   ]
  },
  {
   "cell_type": "code",
   "execution_count": 45,
   "metadata": {},
   "outputs": [],
   "source": [
    "def add_fields():\n",
    "    data = {\n",
    "        \"add-field\": [\n",
    "                {\n",
    "                    \"name\": \"upvotes\",\n",
    "                    \"type\": \"pint\",\n",
    "                    \"indexed\": True,\n",
    "                    \"multiValued\": False\n",
    "                },\n",
    "            {\n",
    "                    \"name\": \"subreddit\",\n",
    "                    \"type\": \"string\",\n",
    "                    \"indexed\": True,\n",
    "                    \"multiValued\": False\n",
    "                },\n",
    "            {\n",
    "                    \"name\": \"full_link\",\n",
    "                    \"type\": \"string\",\n",
    "                    \"indexed\": True,\n",
    "                    \"multiValued\": False\n",
    "                },\n",
    "            {\n",
    "                    \"name\": \"title\",\n",
    "                    \"type\": \"string\",\n",
    "                    \"indexed\": True,\n",
    "                    \"multiValued\": False\n",
    "                },\n",
    "            {\n",
    "                    \"name\": \"selftext\",\n",
    "                    \"type\": \"text_en\",\n",
    "                    \"indexed\": True,\n",
    "                    \"multiValued\": False\n",
    "                },\n",
    "            {\n",
    "                    \"name\": \"author\",\n",
    "                    \"type\": \"string\",\n",
    "                    \"indexed\": True,\n",
    "                    \"multiValued\": False\n",
    "                },\n",
    "            {\n",
    "                    \"name\": \"is_submission\",\n",
    "                    \"type\": \"boolean\",\n",
    "                    \"indexed\": True,\n",
    "                    \"multiValued\": False\n",
    "                },\n",
    "            {\n",
    "                    \"name\": \"topic\",\n",
    "                    \"type\": \"string\",\n",
    "                    \"indexed\": True,\n",
    "                    \"multiValued\": False\n",
    "                },\n",
    "            {\n",
    "                    \"name\": \"created_at\",\n",
    "                    \"type\": \"pdate\",\n",
    "                    \"indexed\": True,\n",
    "                    \"multiValued\": False\n",
    "                },\n",
    "            {\n",
    "                    \"name\": \"body\",\n",
    "                    \"type\": \"text_en\",\n",
    "                    \"indexed\": True,\n",
    "                    \"multiValued\": False\n",
    "                },\n",
    "            {\n",
    "                    \"name\": \"parent_id\",\n",
    "                    \"type\": \"string\",\n",
    "                    \"indexed\": True,\n",
    "                    \"multiValued\": False\n",
    "                },\n",
    "            {\n",
    "                    \"name\": \"parent_body\",\n",
    "                    \"type\": \"text_en\",\n",
    "                    \"indexed\": True,\n",
    "                    \"multiValued\": False\n",
    "                }\n",
    "                \n",
    "            ]\n",
    "        }\n",
    "\n",
    "    print(requests.post(solr_url + CORE_NAME + \"/schema\", json=data).json())"
   ]
  },
  {
   "cell_type": "code",
   "execution_count": 47,
   "metadata": {},
   "outputs": [
    {
     "name": "stdout",
     "output_type": "stream",
     "text": [
      "{'responseHeader': {'status': 0, 'QTime': 881}}\n"
     ]
    }
   ],
   "source": [
    "data = pd.read_csv('D:\\\\scrape2.csv')\n",
    "data['created_at'] = data['created_utc'].apply(lambda x:datetime.utcfromtimestamp(x).strftime('%Y-%m-%dT%H:%M:%SZ') )\n",
    "data= data[['id', 'subreddit', 'full_link', 'title', 'body', 'selftext',\n",
    "       'author', 'is_submission', 'parent_id', 'parent_body', 'topic', 'created_at','upvotes']]\n",
    "\n",
    "def toLower(x):\n",
    "    if x == 'Foodforthought':\n",
    "        return x.lower()\n",
    "    else:\n",
    "        return x\n",
    "    \n",
    "data['subreddit'] = data['subreddit'].apply(lambda x: toLower(x))\n",
    "connection = pysolr.Solr(solr_url + CORE_NAME, always_commit=True, timeout=50000)"
   ]
  },
  {
   "cell_type": "code",
   "execution_count": 48,
   "metadata": {
    "scrolled": false
   },
   "outputs": [
    {
     "name": "stderr",
     "output_type": "stream",
     "text": [
      "100%|████████████████████████████████████████████████████████████████████████████████████| 9/9 [00:03<00:00,  2.90it/s]\n"
     ]
    }
   ],
   "source": [
    "for i in tqdm(range(0,data.shape[0],100)):\n",
    "    test =  data.iloc[i:i+100]\n",
    "    result = test.to_json(orient=\"records\")\n",
    "    parsed = json.loads(result)\n",
    "    json.dumps(parsed, indent=4)  \n",
    "    connection.add(parsed)"
   ]
  },
  {
   "cell_type": "code",
   "execution_count": null,
   "metadata": {},
   "outputs": [],
   "source": []
  },
  {
   "cell_type": "code",
   "execution_count": 2,
   "metadata": {},
   "outputs": [],
   "source": [
    "from sentence_transformers import SentenceTransformer, util\n",
    "model = SentenceTransformer('all-MiniLM-L6-v2')"
   ]
  },
  {
   "cell_type": "code",
   "execution_count": 24,
   "metadata": {},
   "outputs": [
    {
     "name": "stdout",
     "output_type": "stream",
     "text": [
      "tensor([[0.2922]]) 7.587557\n",
      "tensor([[0.3559]]) 7.0285263\n",
      "tensor([[0.5414]]) 6.883585\n",
      "tensor([[0.6002]]) 6.883585\n",
      "tensor([[0.5711]]) 6.883585\n",
      "tensor([[0.3606]]) 6.1255436\n",
      "tensor([[0.3606]]) 6.1255436\n",
      "tensor([[0.3850]]) 5.67769\n",
      "tensor([[0.3850]]) 5.67769\n",
      "tensor([[0.3850]]) 5.67769\n",
      "tensor([[0.3563]]) 5.31948\n",
      "tensor([[0.1858]]) 5.216258\n",
      "tensor([[0.3477]]) 5.055812\n",
      "tensor([[0.3698]]) 5.0014653\n",
      "tensor([[0.4222]]) 4.9639096\n",
      "tensor([[0.4222]]) 4.9639096\n",
      "tensor([[0.3392]]) 4.899925\n",
      "tensor([[0.3392]]) 4.899925\n",
      "tensor([[0.3392]]) 4.899925\n",
      "tensor([[0.3392]]) 4.899925\n",
      "query : what is ocean pollution?\n",
      "Just Solr match : there is a certain idiocy in straws being singled out, but the commenter is lamenting the lack of plastic straws. Like basically his logic is: “if only companies weren’t polluting the ocean with so much plastic, then it would be more okay for us to pollute the ocean with specifically plastic straws because I really like plastic straws.”\n",
      "Just Solr response : only the ocean was never polluted by plastic straws from western countries.  It's all just a complete red herring which absolutely will cause blowback.\n",
      "\n",
      "They took probably the *last* item that should be made renewable since it's the hardest one to do well, and forced a worse experience on people - while showing at the same time it was all performative theatre.  That's obviously not going to win any hearts and minds.\n",
      "\n",
      "If we were down to plastic straws and cup lids I might agree with the ban.  There are far better ways to expend one's energy and get public support behind you than this.\n",
      "Embedding match : Well, pollution is globally pervasive to the point where very few people actually have it. Hell, there's more plastic than fish in the ocean now.\n",
      "Embedding Response : \\&gt;Hell, there's more plastic than fish in the ocean now.\n",
      "\n",
      "God I hate hyperbole masquerading as fact. The estimated amount of plastic in the ocean is 270,000 tonnes.\n",
      "\n",
      "The estimated mass of all fishlife is 2 billion tonnes, meaning the total mass of plastic is about 0.01% of the mass of fishlife.\n",
      "\n",
      "Your response not only does not answer my question, but shows you lack a sense proportion and aren't qualified to answer it.\n"
     ]
    }
   ],
   "source": [
    "# query ='do you think global warming is true?'\n",
    "query ='what is ocean pollution?'\n",
    "qembeddings = model.encode(query, convert_to_tensor=True)\n",
    "\n",
    "result = requests.get('http://localhost:8983/solr/IRF22P1/select?debugQuery=false&defType=dismax&fl=id%2Cscore%2Cbody%2Cparent_body&indent=true&q.op=OR&q='+query+'&qf=parent_body&rows=20')\n",
    "#result = requests.get('http://localhost:8983/solr/IRF22P1/select?indent=true&q.op=OR&q=parent_body%3A'+query+'&rows=100')\n",
    "response = None\n",
    "score = None\n",
    "matchedBest =None\n",
    "for doc in result.json()['response']['docs']:\n",
    "    inp = doc['parent_body']\n",
    "    inpemb= model.encode(inp, convert_to_tensor=True)\n",
    "    cosine_score = util.cos_sim(inpemb, qembeddings)\n",
    "    print(str(cosine_score) + ' '+str(doc['score']))\n",
    "    if score == None or cosine_score > score:\n",
    "        score = cosine_score\n",
    "        matchedBest = inp\n",
    "        response = doc['body']\n",
    "\n",
    "print('query : '+query)\n",
    "print('Just Solr match : '+ result.json()['response']['docs'][0]['parent_body'])\n",
    "print('Just Solr response : '+ result.json()['response']['docs'][0]['body'])\n",
    "print('Embedding match : '+ matchedBest)\n",
    "print('Embedding Response : '+response)"
   ]
  },
  {
   "cell_type": "code",
   "execution_count": 9,
   "metadata": {},
   "outputs": [
    {
     "data": {
      "text/plain": [
       "{'responseHeader': {'status': 400,\n",
       "  'QTime': 38,\n",
       "  'params': {'q': 'input:do you think global warming is true?',\n",
       "   'indent': 'true',\n",
       "   'q.op': 'OR',\n",
       "   'rows': '100'}},\n",
       " 'error': {'metadata': ['error-class',\n",
       "   'org.apache.solr.common.SolrException',\n",
       "   'root-error-class',\n",
       "   'org.apache.solr.common.SolrException'],\n",
       "  'msg': 'undefined field input',\n",
       "  'code': 400}}"
      ]
     },
     "execution_count": 9,
     "metadata": {},
     "output_type": "execute_result"
    }
   ],
   "source": [
    "result.json()"
   ]
  },
  {
   "cell_type": "code",
   "execution_count": 11,
   "metadata": {},
   "outputs": [
    {
     "data": {
      "text/plain": [
       "{'responseHeader': {'status': 0,\n",
       "  'QTime': 3,\n",
       "  'params': {'q': 'do you think global warming is true?',\n",
       "   'defType': 'dismax',\n",
       "   'indent': 'true',\n",
       "   'qf': 'parent_body',\n",
       "   'fl': 'id,score,body,parent_body',\n",
       "   'q.op': 'OR',\n",
       "   'rows': '20',\n",
       "   'debugQuery': 'false'}},\n",
       " 'response': {'numFound': 88415,\n",
       "  'start': 0,\n",
       "  'maxScore': 9.250551,\n",
       "  'numFoundExact': True,\n",
       "  'docs': [{'id': 'hlumwsu',\n",
       "    'body': \"Global warming is literally the biggest threat to human lives. I can't think of anything close other than all out nuclear war, but the difference is that the effects of global warming are inevitable.\",\n",
       "    'parent_body': 'Fair enough. What makes you think other sources are not biased (places that think global warming is the biggest threat ever.',\n",
       "    'score': 9.250551},\n",
       "   {'id': 'hcgxlbq',\n",
       "    'body': 'Just google it. It doesn’t take a scientist to find it on line. Who are you to tell me the rules? Just who do you think you are?',\n",
       "    'parent_body': \"Look it up where? You make the claim:  \\n&gt; solar fields warm the earth more than global warming.  \\n\\nNo, they do not. If you make a claim that is not common knowledge you should support it rather than tell people to go looking for proof that doesn't exist.\",\n",
       "    'score': 8.624863},\n",
       "   {'id': 'gtq7x20',\n",
       "    'body': \"The meat industry *isn't* untouched, and like I mentioned there's already innovation in that market.\\n\\nAnd even without those considerations, you can't accurately claim with certainty that global warming will kill us all. In fact, there's literally zero chance of that happening for billions of people alive right now, because they'll certainly die of something else first that's completely unrelated to global warming. Even for the currently young, it's easily feasible that some technology could emerge that will solve the greenhouse gas problem without scaling back the meat industry.\\n\\nTake a chill pill, and try to keep a level head instead of hyperbolizing.\",\n",
       "    'parent_body': \"if the meat industry remains untouched it is going to be the cause of all our deaths due to global warming. \\n\\nVERY short sighted if you think it's worth it for a better burger\",\n",
       "    'score': 8.479766},\n",
       "   {'id': 'hk20rb6',\n",
       "    'body': \"How in hell can you claim global warming hasn't been proven? There's a century old record of annual temperature across the globe. There's a global trend of rising temperatures. \\n\\nI mean, normally the climate denial argues that it's not man made (despite the overwhelming claims of the scientific community). But denying that the climate isn't getting warmer is basically denying maths. Hell, if you're 60 yo, chances are that you yourself can notice on a personal level.\",\n",
       "    'parent_body': \"Yes and No..  Back then it was Global Warming.   Now it is Climate Change..  Global Warming couldn't be proven, so the narrative changed to fit a new paradigm..   The Climate Change ( Climatologist ) are paid by the government to show global warming so the numbers are made to over exaggerate what is happening...   With that said we do need to reduce dramatically hydrocarbons and pollution to get everything back on track...   This is not really discussed, but is critical for the earth to fix itself....\",\n",
       "    'score': 8.461884},\n",
       "   {'id': 'hk2zra5',\n",
       "    'body': 'I just got whiplash from the sentiment of the beginning of your comment to the end god damn',\n",
       "    'parent_body': \"Yes and No..  Back then it was Global Warming.   Now it is Climate Change..  Global Warming couldn't be proven, so the narrative changed to fit a new paradigm..   The Climate Change ( Climatologist ) are paid by the government to show global warming so the numbers are made to over exaggerate what is happening...   With that said we do need to reduce dramatically hydrocarbons and pollution to get everything back on track...   This is not really discussed, but is critical for the earth to fix itself....\",\n",
       "    'score': 8.461884},\n",
       "   {'id': 'hjzxx27',\n",
       "    'body': '&gt;The Climate Change ( Climatologist ) are paid by the government to show global warming so the numbers are made to over exaggerate what is happening...\\n\\nTo what end?\\n\\nAll the masses will see then is being presented with a massive problem that will ruin life as we know it. They will then see the governments that supppsedly paid for this information doing nothing about it over and over and get mad at said government. \\nAll the government cares about is popularity and this goes against that.',\n",
       "    'parent_body': \"Yes and No..  Back then it was Global Warming.   Now it is Climate Change..  Global Warming couldn't be proven, so the narrative changed to fit a new paradigm..   The Climate Change ( Climatologist ) are paid by the government to show global warming so the numbers are made to over exaggerate what is happening...   With that said we do need to reduce dramatically hydrocarbons and pollution to get everything back on track...   This is not really discussed, but is critical for the earth to fix itself....\",\n",
       "    'score': 8.461884},\n",
       "   {'id': 'hk3d7zp',\n",
       "    'body': 'There are tons of plans circulating. \\n\\nLarge investments in low-carbon electricity and fuels, reforestation, reducing food waste, better cookstoves in developing countries, energy efficiency, sustainable agriculture.\\n\\nThe Drawdown has a lot of great information on hundreds of solutions and their potential impact.\\n\\nhttps://drawdown.org/solutions/table-of-solutions',\n",
       "    'parent_body': 'So what can we actually do about global warming at this point?',\n",
       "    'score': 8.40334},\n",
       "   {'id': 'hyuglks',\n",
       "    'body': 'This is a bad take and your professor was obviously biased. If we look at geology from the Pleistocene on and the trends in weather that were occurring prior to the industrial revolution we should have entered/be entering another ice age by now. Do you really believe that artificially releasing tons of CO2 into the atmosphere hasn’t had an effect? Please compare the Permian Triassic extinction (the great dying as it’s called because it nearly wiped out all life on earth) and relative CO2 and other emissions to what we’ve done in the past 150 years or so. This is the level of change we are facing. We are releasing significantly more in a shorter time frame, but sure our current climate change is “natural” just because the climate has shifted in the past billions of years.',\n",
       "    'parent_body': 'The best Environmental Sciences college course was taught by a professor that spent half of the class teaching global warming. The second half was spent teaching that global warming was a lie. At the end, you were graded on an essay about what your conclusion about global warming was. When you asked the professor what his thoughts where he would not answer. Everyone ended up coming to the same conclusion. Writing to the effect that there are small things we can do to stop making the environment worse, but but as far as global warming goes there is just as much evidence for it, as there is against it. History has show long spells of heat and long spells of cold. It could be the natural order of things just as much as it could be man maid. Everyone passed.\\n\\nThat class caused more open minded conversations and provoked more thoughts for debate than any other.',\n",
       "    'score': 8.385159},\n",
       "   {'id': 'h96izkx',\n",
       "    'body': 'I work on climate change programming and policy for a living; they already do.',\n",
       "    'parent_body': 'How much longer until GOP blames Democrats for not doing enough to stop global warming?',\n",
       "    'score': 8.216567},\n",
       "   {'id': 'h96gh5w',\n",
       "    'body': \"They're already doing it backdoor by funding nuclear activists to attack renewable energy\",\n",
       "    'parent_body': 'How much longer until GOP blames Democrats for not doing enough to stop global warming?',\n",
       "    'score': 8.216567},\n",
       "   {'id': 'h3y5cra',\n",
       "    'body': \"Please don't indulge in hare tactics\",\n",
       "    'parent_body': \"You see that rabbit running around ON FIRE ! That's global warming !\",\n",
       "    'score': 8.085352},\n",
       "   {'id': 'h5vbkqj',\n",
       "    'body': 'Never once said climate change wasn’t real. You’re putting words in my mouth.',\n",
       "    'parent_body': \"Remember the good old days when global warming wasn't real at all, we had no evidence, and it was all speculation?  \\n\\nI don't, but I have a strong suspicion that you do.\",\n",
       "    'score': 8.081595},\n",
       "   {'id': 'h5up6fl',\n",
       "    'body': 'He’s stuck in the 1920s when “global warming isn’t real”',\n",
       "    'parent_body': \"Remember the good old days when global warming wasn't real at all, we had no evidence, and it was all speculation?  \\n\\nI don't, but I have a strong suspicion that you do.\",\n",
       "    'score': 8.081595},\n",
       "   {'id': 'hvz4kvu',\n",
       "    'body': \"bro everything we do creates heat. heating, cooling, cooking meals, and power plants. there are now 6 billion of us who all want to run appliances and use energy and fly around and go on cruises. if you think our inventions dont have an impact on the world around us and life, tell me what happens when you stand in a shut garage with the engine running.  humans vs. internal combustion engines....who will win? you maybe shouldn't be in a science sub if you dont believe scientists. otherwise you are just being a troll.\",\n",
       "    'parent_body': 'Wow so a thing happened 36 years ago, nothing has changed and it’s now a breaking story... more silly global warming nonsense, if you want to end global warming give all your money away and it will be over, they only yap about it to get money',\n",
       "    'score': 7.923788},\n",
       "   {'id': 'hvyrve4',\n",
       "    'body': \"I've been gardening my whole life(65f)\\nand I'm here to tell you that not only do plants bloom earlier, but the sun sets in a different place now.\",\n",
       "    'parent_body': 'Wow so a thing happened 36 years ago, nothing has changed and it’s now a breaking story... more silly global warming nonsense, if you want to end global warming give all your money away and it will be over, they only yap about it to get money',\n",
       "    'score': 7.923788},\n",
       "   {'id': 'hld63au',\n",
       "    'body': \"sure, of course, some milk and beef is going to be more impactful than producing 1500kg of various energy intensive material, burning hundreds of liters of fuel a year and having all that end up as gas in the atmosphere. \\n\\nAnd with what you said about a yacht completely discredits everything you said. Ships are one of the major polluters, their engines are dirty.\\n\\nSo you are just talking out of your ass as I suspected. I won't be replying anymore.\",\n",
       "    'parent_body': \"You could walk to work, use solar, and use microwaves to cook everything.\\n\\nIf you eat beef and dairy you'd *still* contribute more to global warming than if you were a super yacht dwelling vegan. \\n\\nSorry the facts are inconvenient for ya, but your dietary choices have a larger impact on global warming than how you get around town 🤷🏽\\u200d♂️\",\n",
       "    'score': 7.8213825},\n",
       "   {'id': 'hhw5c31',\n",
       "    'body': 'How are you helping?',\n",
       "    'parent_body': \"Like global warming. We can just wait until it's too late to do anything meaningful. Very bipartisan strategy.\",\n",
       "    'score': 7.7840424},\n",
       "   {'id': 'hyfa62d',\n",
       "    'body': 'Well, you have to go off brand if you vote based on conscious or intelligence.',\n",
       "    'parent_body': 'But the parties are so opposed now. There is no such thing as a pro life democrat or a pro environment republican. I can’t vote for a party who doesn’t think global warming is real.',\n",
       "    'score': 7.704365},\n",
       "   {'id': 'hys74vp',\n",
       "    'body': 'Would if Al Gore won the presidency.  We would be at war with climate change not fucking Iraq',\n",
       "    'parent_body': 'I miss being in a kid in the 90s and believing that world leaders would obviously do something within a few years to counter global warming',\n",
       "    'score': 7.7029457},\n",
       "   {'id': 'hjx8kxi',\n",
       "    'body': 'A lot feel it doesn’t matter what we do. Nothing we do will have much effect',\n",
       "    'parent_body': 'I don’t get it. Australia is one of those countries in the best positions to fight global warming. It’s rich and with a shit ton of potential for renewable energy (solar power). At the same time it is one of those countries that are going to be hit by global warming the hardest. Why do they care so little? It wouldn’t be surprising if it were only a few corrupt politicians but why do the Australians keep on voting for them? They’re literally destroying their (grand)childrens future.',\n",
       "    'score': 7.702798}]}}"
      ]
     },
     "execution_count": 11,
     "metadata": {},
     "output_type": "execute_result"
    }
   ],
   "source": [
    "result = requests.get('http://localhost:8983/solr/IRF22P1/select?debugQuery=false&defType=dismax&fl=id%2Cscore%2Cbody%2Cparent_body&indent=true&q.op=OR&q='+query+'&qf=parent_body&rows=20')\n",
    "result.json()"
   ]
  },
  {
   "cell_type": "code",
   "execution_count": 32,
   "metadata": {},
   "outputs": [
    {
     "ename": "ImportError",
     "evalue": "cannot import name 'SBertSummarizer' from 'sentence_transformers' (C:\\Users\\aniru\\miniconda3\\lib\\site-packages\\sentence_transformers\\__init__.py)",
     "output_type": "error",
     "traceback": [
      "\u001b[1;31m---------------------------------------------------------------------------\u001b[0m",
      "\u001b[1;31mImportError\u001b[0m                               Traceback (most recent call last)",
      "Input \u001b[1;32mIn [32]\u001b[0m, in \u001b[0;36m<cell line: 1>\u001b[1;34m()\u001b[0m\n\u001b[1;32m----> 1\u001b[0m \u001b[38;5;28;01mfrom\u001b[39;00m \u001b[38;5;21;01msentence_transformers\u001b[39;00m \u001b[38;5;28;01mimport\u001b[39;00m SBertSummarizer\n\u001b[0;32m      3\u001b[0m body \u001b[38;5;241m=\u001b[39m \u001b[38;5;124m'\u001b[39m\u001b[38;5;124mText body that you want to summarize with BERT\u001b[39m\u001b[38;5;124m'\u001b[39m\n\u001b[0;32m      4\u001b[0m model \u001b[38;5;241m=\u001b[39m SBertSummarizer(\u001b[38;5;124m'\u001b[39m\u001b[38;5;124mparaphrase-MiniLM-L6-v2\u001b[39m\u001b[38;5;124m'\u001b[39m)\n",
      "\u001b[1;31mImportError\u001b[0m: cannot import name 'SBertSummarizer' from 'sentence_transformers' (C:\\Users\\aniru\\miniconda3\\lib\\site-packages\\sentence_transformers\\__init__.py)"
     ]
    }
   ],
   "source": [
    "from sentence_transformers import SBertSummarizer\n",
    "\n",
    "body = 'Text body that you want to summarize with BERT'\n",
    "model = SBertSummarizer('paraphrase-MiniLM-L6-v2')\n",
    "result = model(body, num_sentences=3)"
   ]
  },
  {
   "cell_type": "code",
   "execution_count": 29,
   "metadata": {},
   "outputs": [
    {
     "data": {
      "text/plain": [
       "[]"
      ]
     },
     "execution_count": 29,
     "metadata": {},
     "output_type": "execute_result"
    }
   ],
   "source": [
    "from sentence_transformers import util\n",
    "util."
   ]
  },
  {
   "cell_type": "code",
   "execution_count": 30,
   "metadata": {},
   "outputs": [
    {
     "data": {
      "text/plain": [
       "[\"\\\\&gt;Hell, there's more plastic than fish in the ocean now.\\n\\nGod I hate hyperbole masquerading as fact. The estimated amount of plastic in the ocean is 270,000 tonnes.\\n\\nThe estimated mass of all fishlife is 2 billion tonnes, meaning the total mass of plastic is about 0.01% of the mass of fishlife.\\n\\nYour response not only does not answer my question, but shows you lack a sense proportion and aren't qualified to answer it.\"]"
      ]
     },
     "execution_count": 30,
     "metadata": {},
     "output_type": "execute_result"
    }
   ],
   "source": [
    "sentences"
   ]
  },
  {
   "cell_type": "code",
   "execution_count": null,
   "metadata": {},
   "outputs": [],
   "source": []
  }
 ],
 "metadata": {
  "kernelspec": {
   "display_name": "Python 3 (ipykernel)",
   "language": "python",
   "name": "python3"
  },
  "language_info": {
   "codemirror_mode": {
    "name": "ipython",
    "version": 3
   },
   "file_extension": ".py",
   "mimetype": "text/x-python",
   "name": "python",
   "nbconvert_exporter": "python",
   "pygments_lexer": "ipython3",
   "version": "3.9.12"
  }
 },
 "nbformat": 4,
 "nbformat_minor": 4
}
