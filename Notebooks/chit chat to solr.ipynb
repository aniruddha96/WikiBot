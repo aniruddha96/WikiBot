{
 "cells": [
  {
   "cell_type": "code",
   "execution_count": 3,
   "id": "b5a03465",
   "metadata": {},
   "outputs": [],
   "source": [
    "import chitchat_dataset as data\n",
    "import pandas as pd\n",
    "import re\n",
    "import json\n",
    "import pysolr \n",
    "from tqdm import tqdm\n",
    "import requests\n",
    "import json"
   ]
  },
  {
   "cell_type": "code",
   "execution_count": 2,
   "id": "f27fabbb",
   "metadata": {},
   "outputs": [],
   "source": [
    "CORE_NAME = 'chitchat'\n",
    "solr_url = f'http://localhost:8983/solr/'"
   ]
  },
  {
   "cell_type": "code",
   "execution_count": 3,
   "id": "a6e48e24",
   "metadata": {},
   "outputs": [],
   "source": [
    "def add_fields():\n",
    "    data = {\n",
    "        \"add-field\": [\n",
    "            {\n",
    "                    \"name\": \"input\",\n",
    "                    \"type\": \"text_en\",\n",
    "                    \"indexed\": True,\n",
    "                    \"multiValued\": False\n",
    "                },\n",
    "            {\n",
    "                    \"name\": \"response\",\n",
    "                    \"type\": \"text_en\",\n",
    "                    \"indexed\": True,\n",
    "                    \"multiValued\": False\n",
    "                }\n",
    "            ]\n",
    "        }\n",
    "\n",
    "    print(requests.post(solr_url + CORE_NAME + \"/schema\", json=data).json())"
   ]
  },
  {
   "cell_type": "code",
   "execution_count": 4,
   "id": "a7beb1c7",
   "metadata": {},
   "outputs": [],
   "source": [
    "dataset = data.Dataset()\n",
    "connection = pysolr.Solr(solr_url + CORE_NAME, always_commit=True, timeout=50000)"
   ]
  },
  {
   "cell_type": "code",
   "execution_count": 6,
   "id": "7d787a77",
   "metadata": {},
   "outputs": [
    {
     "name": "stderr",
     "output_type": "stream",
     "text": [
      "100%|███████████████████████████████████████████████████████████████████████████| 7168/7168 [00:00<00:00, 46012.39it/s]\n"
     ]
    },
    {
     "data": {
      "text/plain": [
       "'{\\n  \"responseHeader\":{\\n    \"status\":0,\\n    \"QTime\":5589}}\\n'"
      ]
     },
     "execution_count": 6,
     "metadata": {},
     "output_type": "execute_result"
    }
   ],
   "source": [
    "chit_chat_jsons =[]\n",
    "for convo_id, convo in tqdm(dataset.items()):\n",
    "    c=''\n",
    "    p=''\n",
    "    msgs = convo['messages']\n",
    "    pair={'input':'','response':''}\n",
    "    for msgs in convo['messages']:\n",
    "        for msg in msgs:\n",
    "              c=c+msg['text']+' '\n",
    "        if p!='':\n",
    "            pair['input'] = p.strip()\n",
    "            pair['response'] = c.strip()\n",
    "            chit_chat_jsons.append(dict(pair))\n",
    "\n",
    "        p=c\n",
    "        c=''\n",
    "        \n",
    "connection.add(chit_chat_jsons)"
   ]
  },
  {
   "cell_type": "code",
   "execution_count": 2,
   "id": "f766cb3c",
   "metadata": {},
   "outputs": [],
   "source": [
    "from sentence_transformers import SentenceTransformer, util\n",
    "model = SentenceTransformer('all-MiniLM-L6-v2')"
   ]
  },
  {
   "cell_type": "code",
   "execution_count": 8,
   "id": "2bedc1df",
   "metadata": {},
   "outputs": [],
   "source": [
    "query ='i am happy'\n",
    "qembeddings = model.encode(query, convert_to_tensor=True)\n",
    "result = requests.get('http://localhost:8983/solr/chitchat/select?indent=true&q.op=OR&q=input%3A'+query+'&rows=100')"
   ]
  },
  {
   "cell_type": "code",
   "execution_count": 9,
   "id": "c1f18031",
   "metadata": {},
   "outputs": [
    {
     "name": "stdout",
     "output_type": "stream",
     "text": [
      "query : i am happy\n",
      "Just Solr match : i think i did i messaged you\n",
      "Embedding match : I am not I wish\n",
      "Response : Oh\n"
     ]
    }
   ],
   "source": [
    "response = None\n",
    "score = None\n",
    "matchedBest =None\n",
    "for doc in result.json()['response']['docs']:\n",
    "    inp = doc['input'][0]\n",
    "    inpemb= model.encode(inp, convert_to_tensor=True)\n",
    "    cosine_score = util.cos_sim(inpemb, qembeddings)\n",
    "    if score == None or cosine_score > score:\n",
    "        score = cosine_score\n",
    "        matchedBest = inp\n",
    "        response = doc['response'][0]\n",
    "\n",
    "print('query : '+query)\n",
    "print('Just Solr match : '+ result.json()['response']['docs'][0]['input'][0])\n",
    "print('Embedding match : '+ matchedBest)\n",
    "print('Response : '+response)"
   ]
  },
  {
   "cell_type": "code",
   "execution_count": 44,
   "id": "253f6a77",
   "metadata": {},
   "outputs": [
    {
     "data": {
      "text/plain": [
       "'How are you doing!? How is work?'"
      ]
     },
     "execution_count": 44,
     "metadata": {},
     "output_type": "execute_result"
    }
   ],
   "source": [
    "matchedBest"
   ]
  },
  {
   "cell_type": "code",
   "execution_count": 16,
   "id": "5c56dea2",
   "metadata": {},
   "outputs": [
    {
     "data": {
      "application/vnd.jupyter.widget-view+json": {
       "model_id": "e5d1fbc4a80b4b7487fb7c08fb1aabce",
       "version_major": 2,
       "version_minor": 0
      },
      "text/plain": [
       "Downloading:   0%|          | 0.00/1.18k [00:00<?, ?B/s]"
      ]
     },
     "metadata": {},
     "output_type": "display_data"
    },
    {
     "data": {
      "application/vnd.jupyter.widget-view+json": {
       "model_id": "62d930f6be52488cb95fde89a77b8df5",
       "version_major": 2,
       "version_minor": 0
      },
      "text/plain": [
       "Downloading:   0%|          | 0.00/190 [00:00<?, ?B/s]"
      ]
     },
     "metadata": {},
     "output_type": "display_data"
    },
    {
     "data": {
      "application/vnd.jupyter.widget-view+json": {
       "model_id": "fd53390845b74516860be08fe4a4910b",
       "version_major": 2,
       "version_minor": 0
      },
      "text/plain": [
       "Downloading:   0%|          | 0.00/10.6k [00:00<?, ?B/s]"
      ]
     },
     "metadata": {},
     "output_type": "display_data"
    },
    {
     "data": {
      "application/vnd.jupyter.widget-view+json": {
       "model_id": "07788aabb3d7492cb3ec251d54aaf4ab",
       "version_major": 2,
       "version_minor": 0
      },
      "text/plain": [
       "Downloading:   0%|          | 0.00/612 [00:00<?, ?B/s]"
      ]
     },
     "metadata": {},
     "output_type": "display_data"
    },
    {
     "data": {
      "application/vnd.jupyter.widget-view+json": {
       "model_id": "45d2053d163a4df4b20a6fd43a4ad7fb",
       "version_major": 2,
       "version_minor": 0
      },
      "text/plain": [
       "Downloading:   0%|          | 0.00/116 [00:00<?, ?B/s]"
      ]
     },
     "metadata": {},
     "output_type": "display_data"
    },
    {
     "data": {
      "application/vnd.jupyter.widget-view+json": {
       "model_id": "0db7eccededf4a319de14dba24f1e020",
       "version_major": 2,
       "version_minor": 0
      },
      "text/plain": [
       "Downloading:   0%|          | 0.00/39.3k [00:00<?, ?B/s]"
      ]
     },
     "metadata": {},
     "output_type": "display_data"
    },
    {
     "data": {
      "application/vnd.jupyter.widget-view+json": {
       "model_id": "ebae24672bf64a46a5405d8ce49b559d",
       "version_major": 2,
       "version_minor": 0
      },
      "text/plain": [
       "Downloading:   0%|          | 0.00/90.9M [00:00<?, ?B/s]"
      ]
     },
     "metadata": {},
     "output_type": "display_data"
    },
    {
     "data": {
      "application/vnd.jupyter.widget-view+json": {
       "model_id": "c7e230823b3f4e12935d31417f324cbc",
       "version_major": 2,
       "version_minor": 0
      },
      "text/plain": [
       "Downloading:   0%|          | 0.00/53.0 [00:00<?, ?B/s]"
      ]
     },
     "metadata": {},
     "output_type": "display_data"
    },
    {
     "data": {
      "application/vnd.jupyter.widget-view+json": {
       "model_id": "3fedc8d575a44dd6bc66e2e8dceb0be4",
       "version_major": 2,
       "version_minor": 0
      },
      "text/plain": [
       "Downloading:   0%|          | 0.00/112 [00:00<?, ?B/s]"
      ]
     },
     "metadata": {},
     "output_type": "display_data"
    },
    {
     "data": {
      "application/vnd.jupyter.widget-view+json": {
       "model_id": "33e69cec104c4043aee1a8f7e6039d00",
       "version_major": 2,
       "version_minor": 0
      },
      "text/plain": [
       "Downloading:   0%|          | 0.00/466k [00:00<?, ?B/s]"
      ]
     },
     "metadata": {},
     "output_type": "display_data"
    },
    {
     "data": {
      "application/vnd.jupyter.widget-view+json": {
       "model_id": "11b30d69dbc54ef28327604debe49f82",
       "version_major": 2,
       "version_minor": 0
      },
      "text/plain": [
       "Downloading:   0%|          | 0.00/350 [00:00<?, ?B/s]"
      ]
     },
     "metadata": {},
     "output_type": "display_data"
    },
    {
     "data": {
      "application/vnd.jupyter.widget-view+json": {
       "model_id": "e65ad6f9bb7441be802c7210887ef197",
       "version_major": 2,
       "version_minor": 0
      },
      "text/plain": [
       "Downloading:   0%|          | 0.00/13.2k [00:00<?, ?B/s]"
      ]
     },
     "metadata": {},
     "output_type": "display_data"
    },
    {
     "data": {
      "application/vnd.jupyter.widget-view+json": {
       "model_id": "0e40cf1ccc9f4b6b834de2711c7a97d5",
       "version_major": 2,
       "version_minor": 0
      },
      "text/plain": [
       "Downloading:   0%|          | 0.00/232k [00:00<?, ?B/s]"
      ]
     },
     "metadata": {},
     "output_type": "display_data"
    },
    {
     "data": {
      "application/vnd.jupyter.widget-view+json": {
       "model_id": "a2704f2d7db04b6e9347f304590940da",
       "version_major": 2,
       "version_minor": 0
      },
      "text/plain": [
       "Downloading:   0%|          | 0.00/349 [00:00<?, ?B/s]"
      ]
     },
     "metadata": {},
     "output_type": "display_data"
    }
   ],
   "source": [
    "from sentence_transformers import SentenceTransformer\n",
    "model = SentenceTransformer('all-MiniLM-L6-v2')"
   ]
  },
  {
   "cell_type": "code",
   "execution_count": 17,
   "id": "6f53e7f8",
   "metadata": {},
   "outputs": [],
   "source": [
    "sentences = ['This framework generates embeddings for each input sentence',\n",
    "    'Sentences are passed as a list of string.', \n",
    "    'The quick brown fox jumps over the lazy dog.']\n",
    "sentence_embeddings = model.encode(sentences)"
   ]
  },
  {
   "cell_type": "code",
   "execution_count": 19,
   "id": "9fec2e3d",
   "metadata": {},
   "outputs": [
    {
     "name": "stdout",
     "output_type": "stream",
     "text": [
      "Sentence: This framework generates embeddings for each input sentence\n",
      "Embedding: 384\n",
      "\n",
      "Sentence: Sentences are passed as a list of string.\n",
      "Embedding: 384\n",
      "\n",
      "Sentence: The quick brown fox jumps over the lazy dog.\n",
      "Embedding: 384\n",
      "\n"
     ]
    }
   ],
   "source": [
    "for sentence, embedding in zip(sentences, sentence_embeddings):\n",
    "    print(\"Sentence:\", sentence)\n",
    "    print(\"Embedding:\", len(embedding))\n",
    "    print(\"\")"
   ]
  },
  {
   "cell_type": "code",
   "execution_count": 49,
   "id": "15a501ed",
   "metadata": {},
   "outputs": [
    {
     "name": "stdout",
     "output_type": "stream",
     "text": [
      "I love pasta\n"
     ]
    }
   ],
   "source": [
    "from sentence_transformers import SentenceTransformer, util\n",
    "\n",
    "model = SentenceTransformer('all-MiniLM-L6-v2')\n",
    "\n",
    "# Single list of sentences\n",
    "sentences = ['The cat sits outside',\n",
    "             'A man is playing guitar',\n",
    "             'I love pasta',\n",
    "             'The new movie is awesome',\n",
    "             'The cat plays in the garden',\n",
    "             'A woman watches TV',\n",
    "             'Do you like pizza?']\n",
    "\n",
    "q = 'The new movie is so great'\n",
    "q='sauce'\n",
    "#Compute embeddings\n",
    "embeddings = model.encode(sentences, convert_to_tensor=True)\n",
    "qembeddings = model.encode(q, convert_to_tensor=True)\n",
    "\n",
    "#Compute cosine-similarities for each sentence with each other sentence\n",
    "cosine_scores = util.cos_sim(embeddings, qembeddings)\n",
    "\n",
    "cmax = cosine_scores[0]\n",
    "res = sentences[0]\n",
    "for i in range(0,len(cosine_scores)):\n",
    "    score = cosine_scores[i]\n",
    "    if score > cmax:\n",
    "        res = sentences[i]\n",
    "        cmax=score\n",
    "        \n",
    "print(res)"
   ]
  },
  {
   "cell_type": "code",
   "execution_count": 45,
   "id": "5d1ee03b",
   "metadata": {},
   "outputs": [
    {
     "data": {
      "text/plain": [
       "tensor([[ 0.4182],\n",
       "        [-0.0030],\n",
       "        [ 0.3094],\n",
       "        [ 0.0918],\n",
       "        [ 0.3564],\n",
       "        [ 0.0690],\n",
       "        [ 0.1192]])"
      ]
     },
     "execution_count": 45,
     "metadata": {},
     "output_type": "execute_result"
    }
   ],
   "source": [
    "cosine_scores"
   ]
  },
  {
   "cell_type": "code",
   "execution_count": null,
   "id": "b3b42393",
   "metadata": {},
   "outputs": [],
   "source": []
  }
 ],
 "metadata": {
  "kernelspec": {
   "display_name": "Python 3 (ipykernel)",
   "language": "python",
   "name": "python3"
  },
  "language_info": {
   "codemirror_mode": {
    "name": "ipython",
    "version": 3
   },
   "file_extension": ".py",
   "mimetype": "text/x-python",
   "name": "python",
   "nbconvert_exporter": "python",
   "pygments_lexer": "ipython3",
   "version": "3.9.12"
  }
 },
 "nbformat": 4,
 "nbformat_minor": 5
}
