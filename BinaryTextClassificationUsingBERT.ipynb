{
 "cells": [
  {
   "cell_type": "code",
   "execution_count": null,
   "metadata": {},
   "outputs": [],
   "source": [
    "## This classification code has been adapted from this tutorial\n",
    "## https://www.section.io/engineering-education/classification-model-using-bert-and-tensorflow/"
   ]
  },
  {
   "cell_type": "code",
   "execution_count": null,
   "id": "Tn_rVX38NhME",
   "metadata": {
    "colab": {
     "base_uri": "https://localhost:8080/"
    },
    "executionInfo": {
     "elapsed": 9327,
     "status": "ok",
     "timestamp": 1670413268092,
     "user": {
      "displayName": "K Sphoorthi",
      "userId": "17801066168449259930"
     },
     "user_tz": 300
    },
    "id": "Tn_rVX38NhME",
    "outputId": "c8ba8ae1-b627-4eab-a090-7d844e8f86d8"
   },
   "outputs": [],
   "source": [
    "!pip install chitchat_dataset\n",
    "import pandas as pd"
   ]
  },
  {
   "cell_type": "code",
   "execution_count": null,
   "id": "b3348100",
   "metadata": {
    "id": "b3348100"
   },
   "outputs": [],
   "source": [
    "import chitchat_dataset as ccc"
   ]
  },
  {
   "cell_type": "code",
   "execution_count": null,
   "id": "qh7RMrEHOGcm",
   "metadata": {
    "colab": {
     "base_uri": "https://localhost:8080/"
    },
    "executionInfo": {
     "elapsed": 22687,
     "status": "ok",
     "timestamp": 1670434723357,
     "user": {
      "displayName": "K Sphoorthi",
      "userId": "17801066168449259930"
     },
     "user_tz": 300
    },
    "id": "qh7RMrEHOGcm",
    "outputId": "b1bf618b-b530-401e-e9c1-63bfed70ce99"
   },
   "outputs": [],
   "source": [
    "from google.colab import drive\n",
    "drive.mount('/content/drive')"
   ]
  },
  {
   "cell_type": "code",
   "execution_count": null,
   "id": "0325bd7e",
   "metadata": {
    "id": "0325bd7e"
   },
   "outputs": [],
   "source": [
    "#Read chitchat dataset\n",
    "dataset = ccc.Dataset()\n",
    "messages = list(ccc.MessageDataset())"
   ]
  },
  {
   "cell_type": "code",
   "execution_count": null,
   "id": "fba17d85",
   "metadata": {
    "id": "fba17d85"
   },
   "outputs": [],
   "source": [
    "cc_df = pd.DataFrame(messages, columns = [\"Text\"])\n",
    "cc_df['tag'] = \"chitchat\""
   ]
  },
  {
   "cell_type": "code",
   "execution_count": null,
   "id": "5a8ede96",
   "metadata": {
    "id": "5a8ede96"
   },
   "outputs": [],
   "source": [
    "#Read Reddit dataset\n",
    "r_df = pd.read_pickle('/content/drive/MyDrive/irp4/full_data_new_1.pkl')"
   ]
  },
  {
   "cell_type": "code",
   "execution_count": null,
   "id": "1daf7d81",
   "metadata": {
    "colab": {
     "base_uri": "https://localhost:8080/",
     "height": 424
    },
    "executionInfo": {
     "elapsed": 362,
     "status": "ok",
     "timestamp": 1670413506463,
     "user": {
      "displayName": "K Sphoorthi",
      "userId": "17801066168449259930"
     },
     "user_tz": 300
    },
    "id": "1daf7d81",
    "outputId": "26281c19-0d22-4527-ad7b-efc3c4e1fb36"
   },
   "outputs": [],
   "source": [
    "r_d_list1 = list(r_df['title'])\n",
    "r_d_list1 = r_d_list1 + list(r_df.loc[r_df.selftext == r_df.body,'body'])\n",
    "r_d_list1 = r_d_list1 + list(r_df.loc[r_df.selftext != r_df.body,'selftext'])\n",
    "r_d_list1 = r_d_list1 + list(r_df.loc[r_df.selftext != r_df.body,'body'])\n",
    "\n",
    "rr_df = pd.DataFrame(r_d_list1, columns=[\"Text\"])\n",
    "rr_df = rr_df[rr_df.Text != '']\n",
    "rr_df['tag'] = \"reddit\" #tag the dataset\n",
    "rr_df"
   ]
  },
  {
   "cell_type": "code",
   "execution_count": null,
   "id": "B0rG76zuNO-C",
   "metadata": {
    "colab": {
     "base_uri": "https://localhost:8080/"
    },
    "executionInfo": {
     "elapsed": 393,
     "status": "ok",
     "timestamp": 1670413519973,
     "user": {
      "displayName": "K Sphoorthi",
      "userId": "17801066168449259930"
     },
     "user_tz": 300
    },
    "id": "B0rG76zuNO-C",
    "outputId": "c26c1cb9-025a-4ec9-deec-c4b39a4a3166"
   },
   "outputs": [],
   "source": [
    "rr_df.drop_duplicates('Text', inplace=True)\n",
    "rr_df.reset_index(drop=True,inplace=True)\n",
    "rr_df.shape"
   ]
  },
  {
   "cell_type": "code",
   "execution_count": null,
   "id": "5baac91a",
   "metadata": {
    "colab": {
     "base_uri": "https://localhost:8080/",
     "height": 424
    },
    "executionInfo": {
     "elapsed": 428,
     "status": "ok",
     "timestamp": 1670413545204,
     "user": {
      "displayName": "K Sphoorthi",
      "userId": "17801066168449259930"
     },
     "user_tz": 300
    },
    "id": "5baac91a",
    "outputId": "3d5b4bff-c68c-4a06-c893-a93c9016352e"
   },
   "outputs": [],
   "source": [
    "t_data = pd.concat([cc_df, rr_df], axis=0, ignore_index=True)\n",
    "t_data['label'] = t_data['tag'].factorize()[0]\n",
    "t_data #concatenate the two tagged datasets"
   ]
  },
  {
   "cell_type": "code",
   "execution_count": null,
   "id": "9f645196",
   "metadata": {
    "colab": {
     "base_uri": "https://localhost:8080/"
    },
    "executionInfo": {
     "elapsed": 810,
     "status": "ok",
     "timestamp": 1670413552840,
     "user": {
      "displayName": "K Sphoorthi",
      "userId": "17801066168449259930"
     },
     "user_tz": 300
    },
    "id": "9f645196",
    "outputId": "785d631a-5fd3-48fd-b3e3-5a87e80c636b"
   },
   "outputs": [],
   "source": [
    "# Number of words\n",
    "t_data['Text'].apply(lambda x: len(x.split(' '))).sum()"
   ]
  },
  {
   "cell_type": "code",
   "execution_count": null,
   "id": "5c320911",
   "metadata": {
    "colab": {
     "base_uri": "https://localhost:8080/",
     "height": 296
    },
    "executionInfo": {
     "elapsed": 398,
     "status": "ok",
     "timestamp": 1670413554930,
     "user": {
      "displayName": "K Sphoorthi",
      "userId": "17801066168449259930"
     },
     "user_tz": 300
    },
    "id": "5c320911",
    "outputId": "f71319e9-8cd2-4285-e6ca-0f5115d16906"
   },
   "outputs": [],
   "source": [
    "import matplotlib.pyplot as plt\n",
    "tags = ['chitchat','reddit']\n",
    "plt.figure(figsize=(10,4))\n",
    "t_data.tag.value_counts().plot(kind='bar');"
   ]
  },
  {
   "cell_type": "code",
   "execution_count": null,
   "id": "eb24b1d1",
   "metadata": {
    "colab": {
     "base_uri": "https://localhost:8080/"
    },
    "executionInfo": {
     "elapsed": 766,
     "status": "ok",
     "timestamp": 1670413559716,
     "user": {
      "displayName": "K Sphoorthi",
      "userId": "17801066168449259930"
     },
     "user_tz": 300
    },
    "id": "eb24b1d1",
    "outputId": "4466b941-8076-408e-c8f1-d7b109ebf8f4"
   },
   "outputs": [],
   "source": [
    "# Pre-process text\n",
    "from html.parser import HTMLParser\n",
    "from bs4 import BeautifulSoup\n",
    "from nltk.corpus import stopwords\n",
    "from nltk.stem import WordNetLemmatizer\n",
    "import re\n",
    "import nltk\n",
    "nltk.download('wordnet')\n",
    "nltk.download('stopwords')\n",
    "nltk.download('omw-1.4')"
   ]
  },
  {
   "cell_type": "code",
   "execution_count": null,
   "id": "8692fa06",
   "metadata": {
    "id": "8692fa06"
   },
   "outputs": [],
   "source": [
    "def preprocess_text(text):\n",
    "    stop_words = set(stopwords.words('english'))\n",
    "    \n",
    "    \n",
    "    processed_text = BeautifulSoup(text, \"lxml\").text    \n",
    "    processed_text = re.sub(r\"[/(){}\\[\\]\\|@,;]\", \" \", processed_text.lower())\n",
    "    processed_text = re.sub(r\"[^0-9a-z #+_]\", \"\", processed_text)\n",
    "    processed_text = re.sub(' +', ' ', processed_text.strip())\n",
    "    \n",
    "    stemmer = WordNetLemmatizer()\n",
    "    \n",
    "#     processed_text = ' '.join(stemmer.lemmatize(word) for word in processed_text.split() if word not in stop_words)\n",
    "#    processed_text = ' '.join(stemmer.lemmatize(word) for word in processed_text.split())\n",
    "    return processed_text"
   ]
  },
  {
   "cell_type": "code",
   "execution_count": null,
   "id": "db85be81",
   "metadata": {
    "colab": {
     "base_uri": "https://localhost:8080/"
    },
    "executionInfo": {
     "elapsed": 124019,
     "status": "ok",
     "timestamp": 1670413694616,
     "user": {
      "displayName": "K Sphoorthi",
      "userId": "17801066168449259930"
     },
     "user_tz": 300
    },
    "id": "db85be81",
    "outputId": "a5399cbc-5fd0-450e-8a11-06c5407a207d"
   },
   "outputs": [],
   "source": [
    "t_data['Text_p'] = t_data['Text'].apply(preprocess_text)"
   ]
  },
  {
   "cell_type": "code",
   "execution_count": null,
   "id": "6TnScQ6aqhK-",
   "metadata": {
    "colab": {
     "base_uri": "https://localhost:8080/",
     "height": 426
    },
    "executionInfo": {
     "elapsed": 396,
     "status": "ok",
     "timestamp": 1670413700918,
     "user": {
      "displayName": "K Sphoorthi",
      "userId": "17801066168449259930"
     },
     "user_tz": 300
    },
    "id": "6TnScQ6aqhK-",
    "outputId": "015e937f-d5af-40dd-ec44-d0eee64b892b"
   },
   "outputs": [],
   "source": [
    "t_data[t_data.Text == \"\"]"
   ]
  },
  {
   "cell_type": "code",
   "execution_count": null,
   "id": "0a6ef166",
   "metadata": {
    "colab": {
     "base_uri": "https://localhost:8080/"
    },
    "executionInfo": {
     "elapsed": 334,
     "status": "ok",
     "timestamp": 1670413723011,
     "user": {
      "displayName": "K Sphoorthi",
      "userId": "17801066168449259930"
     },
     "user_tz": 300
    },
    "id": "0a6ef166",
    "outputId": "cf16448a-2cea-40c5-820a-c8b0b20636a7"
   },
   "outputs": [],
   "source": [
    "t_data\n",
    "t_data_copy = t_data.copy()\n",
    "t_data = t_data[t_data.Text!='']\n",
    "t_data.shape[0], t_data_copy.shape[0]"
   ]
  },
  {
   "cell_type": "code",
   "execution_count": null,
   "id": "033e4fd1",
   "metadata": {
    "colab": {
     "base_uri": "https://localhost:8080/"
    },
    "executionInfo": {
     "elapsed": 357,
     "status": "ok",
     "timestamp": 1670413726995,
     "user": {
      "displayName": "K Sphoorthi",
      "userId": "17801066168449259930"
     },
     "user_tz": 300
    },
    "id": "033e4fd1",
    "outputId": "1856f768-7d72-45a6-dbc4-57a6c04bce29"
   },
   "outputs": [],
   "source": [
    "df_cc = t_data[t_data['tag']=='chitchat']\n",
    "df_rd = t_data[t_data['tag']=='reddit']\n",
    "df_rd_downsampled = df_rd.sample(df_cc.shape[0])\n",
    "df_balanced = pd.concat([df_rd_downsampled, df_cc], axis=0, ignore_index=True)\n",
    "df_balanced['label'].value_counts()"
   ]
  },
  {
   "cell_type": "code",
   "execution_count": null,
   "id": "P77NHlgvy4G4",
   "metadata": {
    "id": "P77NHlgvy4G4"
   },
   "outputs": [],
   "source": [
    "df_balanced.to_pickle('/content/drive/MyDrive/df_balanced.pkl')"
   ]
  },
  {
   "cell_type": "code",
   "execution_count": null,
   "id": "pSEH8rpQRExO",
   "metadata": {
    "colab": {
     "base_uri": "https://localhost:8080/"
    },
    "executionInfo": {
     "elapsed": 70905,
     "status": "ok",
     "timestamp": 1670413803607,
     "user": {
      "displayName": "K Sphoorthi",
      "userId": "17801066168449259930"
     },
     "user_tz": 300
    },
    "id": "pSEH8rpQRExO",
    "outputId": "cc30c3a5-dedd-4ff2-e448-d7a041133f3c"
   },
   "outputs": [],
   "source": [
    "!pip install tensorflow_text"
   ]
  },
  {
   "cell_type": "code",
   "execution_count": null,
   "id": "6958df81",
   "metadata": {
    "id": "6958df81"
   },
   "outputs": [],
   "source": [
    "import tensorflow as tf\n",
    "import tensorflow_hub as hub\n",
    "import tensorflow_text as text\n",
    "from sklearn.model_selection import train_test_split"
   ]
  },
  {
   "cell_type": "code",
   "execution_count": null,
   "id": "bbe455e1",
   "metadata": {
    "id": "bbe455e1"
   },
   "outputs": [],
   "source": [
    "X_train, X_test, y_train, y_test = train_test_split(df_balanced['Text'],df_balanced['label'], stratify=df_balanced['label'])"
   ]
  },
  {
   "cell_type": "code",
   "execution_count": null,
   "id": "486978dd",
   "metadata": {
    "colab": {
     "base_uri": "https://localhost:8080/"
    },
    "executionInfo": {
     "elapsed": 46617,
     "status": "ok",
     "timestamp": 1670413877360,
     "user": {
      "displayName": "K Sphoorthi",
      "userId": "17801066168449259930"
     },
     "user_tz": 300
    },
    "id": "486978dd",
    "outputId": "ae2016a4-c6d4-43e3-a101-7ed6192a8c73"
   },
   "outputs": [],
   "source": [
    "bert_preprocess = hub.KerasLayer(\"https://tfhub.dev/tensorflow/bert_en_uncased_preprocess/3\")\n",
    "bert_encoder = hub.KerasLayer(\"https://tfhub.dev/tensorflow/bert_en_uncased_L-12_H-768_A-12/4\")"
   ]
  },
  {
   "cell_type": "code",
   "execution_count": null,
   "id": "88a8f7d2",
   "metadata": {
    "colab": {
     "base_uri": "https://localhost:8080/"
    },
    "executionInfo": {
     "elapsed": 720,
     "status": "ok",
     "timestamp": 1670413927663,
     "user": {
      "displayName": "K Sphoorthi",
      "userId": "17801066168449259930"
     },
     "user_tz": 300
    },
    "id": "88a8f7d2",
    "outputId": "fc850b6c-1c98-4a6b-e9f4-25d4dc8bd0fe"
   },
   "outputs": [],
   "source": [
    "text_input = tf.keras.layers.Input(shape=(), dtype=tf.string, name='text')\n",
    "preprocessed_text = bert_preprocess(text_input)\n",
    "outputs = bert_encoder(preprocessed_text)"
   ]
  },
  {
   "cell_type": "code",
   "execution_count": null,
   "id": "bf60a948",
   "metadata": {
    "id": "bf60a948"
   },
   "outputs": [],
   "source": [
    "l = tf.keras.layers.Dropout(0.1, name=\"dropout\")(outputs['pooled_output'])\n",
    "l = tf.keras.layers.Dense(1, activation='sigmoid', name=\"output\")(l)"
   ]
  },
  {
   "cell_type": "code",
   "execution_count": null,
   "id": "4d43ec2a",
   "metadata": {
    "id": "4d43ec2a"
   },
   "outputs": [],
   "source": [
    "model = tf.keras.Model(inputs=[text_input], outputs = [l])"
   ]
  },
  {
   "cell_type": "code",
   "execution_count": null,
   "id": "abfcb10c",
   "metadata": {
    "colab": {
     "base_uri": "https://localhost:8080/"
    },
    "executionInfo": {
     "elapsed": 31,
     "status": "ok",
     "timestamp": 1670413933004,
     "user": {
      "displayName": "K Sphoorthi",
      "userId": "17801066168449259930"
     },
     "user_tz": 300
    },
    "id": "abfcb10c",
    "outputId": "3078e5f2-3f46-4be7-e98b-f98e32ce69a5"
   },
   "outputs": [],
   "source": [
    "model.summary()"
   ]
  },
  {
   "cell_type": "code",
   "execution_count": null,
   "id": "333e0537",
   "metadata": {
    "id": "333e0537"
   },
   "outputs": [],
   "source": [
    "METRICS = [\n",
    "      tf.keras.metrics.BinaryAccuracy(name='accuracy'),\n",
    "      tf.keras.metrics.Precision(name='precision'),\n",
    "      tf.keras.metrics.Recall(name='recall')\n",
    "]\n",
    "\n",
    "model.compile(optimizer='adam',\n",
    " loss='binary_crossentropy',\n",
    " metrics=METRICS)"
   ]
  },
  {
   "cell_type": "code",
   "execution_count": null,
   "id": "oPwUBWI1a8GV",
   "metadata": {
    "colab": {
     "base_uri": "https://localhost:8080/"
    },
    "executionInfo": {
     "elapsed": 6511050,
     "status": "ok",
     "timestamp": 1670420451518,
     "user": {
      "displayName": "K Sphoorthi",
      "userId": "17801066168449259930"
     },
     "user_tz": 300
    },
    "id": "oPwUBWI1a8GV",
    "outputId": "d473be57-86a3-4508-ef9a-565bbd783a68"
   },
   "outputs": [],
   "source": [
    "model.fit(X_train, y_train, epochs=3)"
   ]
  },
  {
   "cell_type": "code",
   "execution_count": null,
   "id": "VlpG59r45xpd",
   "metadata": {
    "colab": {
     "base_uri": "https://localhost:8080/"
    },
    "executionInfo": {
     "elapsed": 1981,
     "status": "ok",
     "timestamp": 1670422042253,
     "user": {
      "displayName": "K Sphoorthi",
      "userId": "17801066168449259930"
     },
     "user_tz": 300
    },
    "id": "VlpG59r45xpd",
    "outputId": "68c15e98-0542-46d3-e3f0-76ee43438c9b"
   },
   "outputs": [],
   "source": [
    "# serialize model to JSON\n",
    "model_json = model.to_json()\n",
    "with open(\"/content/drive/MyDrive/irp4/model_new.json\", \"w\") as json_file:\n",
    "    json_file.write(model_json)\n",
    "# serialize weights to HDF5\n",
    "model.save_weights(\"/content/drive/MyDrive/irp4/model_new.h5\")\n",
    "print(\"Saved model to disk\")"
   ]
  },
  {
   "cell_type": "code",
   "execution_count": null,
   "id": "TOzVIzlw6Z7W",
   "metadata": {
    "id": "TOzVIzlw6Z7W"
   },
   "outputs": [],
   "source": [
    "# load json and create model\n",
    "json_file = open('/content/drive/MyDrive/irp4/model_new.json', 'r')\n",
    "loaded_model_json = json_file.read()\n",
    "json_file.close()\n"
   ]
  },
  {
   "cell_type": "code",
   "execution_count": null,
   "id": "Yx1Mw2NX6t_N",
   "metadata": {
    "colab": {
     "base_uri": "https://localhost:8080/"
    },
    "executionInfo": {
     "elapsed": 23412,
     "status": "ok",
     "timestamp": 1670422388043,
     "user": {
      "displayName": "K Sphoorthi",
      "userId": "17801066168449259930"
     },
     "user_tz": 300
    },
    "id": "Yx1Mw2NX6t_N",
    "outputId": "757ccc88-17d5-44bc-e1ec-9e1fc7333d44"
   },
   "outputs": [],
   "source": [
    "from tensorflow.keras.models import model_from_json\n",
    "loaded_model = model_from_json(loaded_model_json,\n",
    "       custom_objects={'KerasLayer':hub.KerasLayer})\n",
    "# load weights into new model\n",
    "loaded_model.load_weights(\"/content/drive/MyDrive/irp4/model_new.h5\")\n",
    "print(\"Loaded model from disk\")"
   ]
  },
  {
   "cell_type": "code",
   "execution_count": null,
   "id": "LWeCzZC57wJa",
   "metadata": {
    "colab": {
     "base_uri": "https://localhost:8080/"
    },
    "executionInfo": {
     "elapsed": 363,
     "status": "ok",
     "timestamp": 1670422880691,
     "user": {
      "displayName": "K Sphoorthi",
      "userId": "17801066168449259930"
     },
     "user_tz": 300
    },
    "id": "LWeCzZC57wJa",
    "outputId": "f3391634-d73c-47f7-cb1c-e4abd3a83269"
   },
   "outputs": [],
   "source": [
    "model.predict([\"Tell me about covid cases\",\n",
    "               \"Hello How are you doing?\",\n",
    "               \"What is global warming?\",\n",
    "               \"Who are democrats?\",\n",
    "               \"what is the meaning of life?\",\n",
    "               \"what is an educational reform?\",\n",
    "               \"He is spamming the chat and it is really hard to do anything\",\n",
    "               \"But the rules say no competition talk so... i learned that you get a heart attack from a build up of cholesterol breaking and the blood clotting on a coronary article\",\n",
    "               \"My girlfriend came to where I was working which was the library the media center. I was doing camera check outs\"])"
   ]
  },
  {
   "cell_type": "code",
   "execution_count": null,
   "id": "h7JrFzMb9pGj",
   "metadata": {
    "colab": {
     "base_uri": "https://localhost:8080/"
    },
    "executionInfo": {
     "elapsed": 1216,
     "status": "ok",
     "timestamp": 1670423033720,
     "user": {
      "displayName": "K Sphoorthi",
      "userId": "17801066168449259930"
     },
     "user_tz": 300
    },
    "id": "h7JrFzMb9pGj",
    "outputId": "a9feb9b7-c07b-4e0d-bce0-316ed3c32dd3"
   },
   "outputs": [],
   "source": [
    "loaded_model.predict([\"Tell me about covid cases\",\n",
    "               \"Hello How are you doing?\",\n",
    "               \"What is global warming?\",\n",
    "               \"Who are democrats?\",\n",
    "               \"what is the meaning of life?\",\n",
    "               \"what is an educational reform?\",\n",
    "               \"He is spamming the chat and it is really hard to do anything\",\n",
    "               \"But the rules say no competition talk so... i learned that you get a heart attack from a build up of cholesterol breaking and the blood clotting on a coronary article\",\n",
    "               \"My girlfriend came to where I was working which was the library the media center. I was doing camera check outs\"])"
   ]
  },
  {
   "cell_type": "code",
   "execution_count": null,
   "id": "ad3d4c49",
   "metadata": {
    "colab": {
     "base_uri": "https://localhost:8080/"
    },
    "executionInfo": {
     "elapsed": 37271,
     "status": "ok",
     "timestamp": 1670423852460,
     "user": {
      "displayName": "K Sphoorthi",
      "userId": "17801066168449259930"
     },
     "user_tz": 300
    },
    "id": "ad3d4c49",
    "outputId": "1f6c22e3-f722-4527-e180-7e88206a6ace"
   },
   "outputs": [],
   "source": [
    "y_predicted = model.predict(X_test)\n",
    "y_predicted = y_predicted.flatten()"
   ]
  },
  {
   "cell_type": "code",
   "execution_count": null,
   "id": "578ca073",
   "metadata": {
    "colab": {
     "base_uri": "https://localhost:8080/"
    },
    "executionInfo": {
     "elapsed": 364,
     "status": "ok",
     "timestamp": 1670423976159,
     "user": {
      "displayName": "K Sphoorthi",
      "userId": "17801066168449259930"
     },
     "user_tz": 300
    },
    "id": "578ca073",
    "outputId": "9f1eb73a-4965-45fe-bd39-77c73e509776"
   },
   "outputs": [],
   "source": [
    "import numpy as np\n",
    "\n",
    "y_predicted = np.where(y_predicted > 0.5, 1, 0)\n",
    "sum(y_predicted == y_test)"
   ]
  },
  {
   "cell_type": "code",
   "execution_count": null,
   "id": "HFYlfwo3czYM",
   "metadata": {
    "id": "HFYlfwo3czYM"
   },
   "outputs": [],
   "source": []
  }
 ],
 "metadata": {
  "accelerator": "GPU",
  "colab": {
   "provenance": [
    {
     "file_id": "1zFnqWGmEOOMHVIR3uWnTg50ovKTSqAWa",
     "timestamp": 1670385301478
    }
   ]
  },
  "gpuClass": "standard",
  "kernelspec": {
   "display_name": "Python 3",
   "language": "python",
   "name": "python3"
  },
  "language_info": {
   "codemirror_mode": {
    "name": "ipython",
    "version": 3
   },
   "file_extension": ".py",
   "mimetype": "text/x-python",
   "name": "python",
   "nbconvert_exporter": "python",
   "pygments_lexer": "ipython3",
   "version": "3.8.8"
  }
 },
 "nbformat": 4,
 "nbformat_minor": 5
}
